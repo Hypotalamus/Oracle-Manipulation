{
 "cells": [
  {
   "cell_type": "code",
   "execution_count": 1,
   "id": "ed3c42e4-14bc-4651-8708-8947dab5ea75",
   "metadata": {},
   "outputs": [],
   "source": [
    "import sys\n",
    "import plotly.express as px\n",
    "import numpy as np\n",
    "from gymnasium.wrappers import TimeLimit\n",
    "\n",
    "sys.path.append('..')\n",
    "\n",
    "from environment.mangoEnv import MangoEnv, MAX_AMOUNT, REDUCED\n",
    "from environment.action import ACTIONS_NUM, AMOUNT_ORDERS_HIGH, Action, AMOUNT_REDUCED"
   ]
  },
  {
   "cell_type": "code",
   "execution_count": 2,
   "id": "7cc6407c-c605-4f8d-8af0-94aa24576824",
   "metadata": {},
   "outputs": [],
   "source": [
    "render_mode = None\n",
    "ext_mngo_price=0.1\n",
    "init_mngo_pool_balance=1e6 / MAX_AMOUNT\n",
    "init_usdc_pool_balance=1e5 / MAX_AMOUNT\n",
    "init_treasury_size_usdc=150e6 / MAX_AMOUNT\n",
    "usdc_user_balance_init=2e8 / MAX_AMOUNT\n",
    "mngo_collateral_factor=1.5\n",
    "arb_efficiency_factor=0.95\n",
    "\n",
    "env = MangoEnv(\n",
    "    render_mode=render_mode, \n",
    "    ext_mngo_price_mean=ext_mngo_price, \n",
    "    init_mngo_pool_balance=init_mngo_pool_balance,\n",
    "    init_usdc_pool_balance=init_usdc_pool_balance,\n",
    "    init_treasury_size_usdc=init_treasury_size_usdc,\n",
    "    mngo_collateral_factor=mngo_collateral_factor,\n",
    "    arb_efficiency_factor=arb_efficiency_factor,\n",
    "    usdc_user_balance_init=usdc_user_balance_init\n",
    ")\n",
    "\n",
    "env = TimeLimit(env, max_episode_steps=100000)"
   ]
  },
  {
   "cell_type": "code",
   "execution_count": 3,
   "id": "8d4ce172-8636-4698-afb1-52ffd331dd2d",
   "metadata": {},
   "outputs": [
    {
     "name": "stdout",
     "output_type": "stream",
     "text": [
      "Steps passed: 200, total reward: -24.8, jackpots amount: 0\n",
      "Health_factor: -0.0007488148383279006\n"
     ]
    }
   ],
   "source": [
    "env.reset()\n",
    "total_reward = 0\n",
    "done = False\n",
    "step = 0\n",
    "jackpot = 0\n",
    "\n",
    "while not done:\n",
    "    action = env.action_space.sample()\n",
    "    observation, reward, terminated, truncated, info = env.step(action)\n",
    "    total_reward += reward\n",
    "    if reward == 10.0:\n",
    "        jackpot += 1\n",
    "    step += 1\n",
    "    done = terminated or truncated\n",
    "print(f\"Steps passed: {step}, total reward: {total_reward}, jackpots amount: {jackpot}\")\n",
    "print(f\"Health_factor: {env.get_wrapper_attr('mango').get_user_health_factor()}\")"
   ]
  },
  {
   "cell_type": "code",
   "execution_count": 4,
   "id": "cd649e56-e779-4afb-8734-54da00514736",
   "metadata": {},
   "outputs": [
    {
     "name": "stdout",
     "output_type": "stream",
     "text": [
      "reward at 0 step: 0\n",
      "reward at 1 step: 0\n",
      "reward at 2 step: 0\n",
      "reward at 3 step: 10.0\n",
      "Done: True, total reward: 10.0\n",
      "Treasury: 0.045268817900039754\n",
      "Health_factor: -0.08236602430587572\n"
     ]
    }
   ],
   "source": [
    "env.reset()\n",
    "total_reward = 0\n",
    "done = False\n",
    "\n",
    "# for continuous amount\n",
    "# smart_actions = (\n",
    "#     (5, 18e6 / MAX_AMOUNT), # Buy MNGO on external market\n",
    "#     (1, 18e6 / MAX_AMOUNT), # Put MNGO as collateral\n",
    "#     (0, 1.0e7 / MAX_AMOUNT), # Swap USDC to MNGO\n",
    "#     (2, 100e6 / MAX_AMOUNT), # Borrow\n",
    "#     (4, 0.), # Just Relax\n",
    "#     (4, 0.),\n",
    "#     (4, 0.),\n",
    "#     (4, 0.),\n",
    "#     (4, 0.),\n",
    "#     (4, 0.)\n",
    "# )\n",
    "\n",
    "if REDUCED:\n",
    "    smart_actions = (\n",
    "        3 * AMOUNT_REDUCED + 1,\n",
    "        1 * AMOUNT_REDUCED + 1,\n",
    "        0 * AMOUNT_REDUCED + 1,\n",
    "        2 * AMOUNT_REDUCED + 2,\n",
    "        13,\n",
    "        13,\n",
    "        13,\n",
    "        13,\n",
    "        13,\n",
    "        13\n",
    "    )\n",
    "else:\n",
    "    smart_actions = (\n",
    "        Action.BUY_MNGO.value * AMOUNT_ORDERS_HIGH + 6,\n",
    "        Action.PUT_COLLATERAL.value * AMOUNT_ORDERS_HIGH + 6,\n",
    "        Action.SWAP_USDC_TO_MNGO.value * AMOUNT_ORDERS_HIGH + 6,\n",
    "        Action.BORROW.value * AMOUNT_ORDERS_HIGH + 7,\n",
    "        Action.NOP.value * AMOUNT_ORDERS_HIGH,\n",
    "        Action.NOP.value * AMOUNT_ORDERS_HIGH,\n",
    "        Action.NOP.value * AMOUNT_ORDERS_HIGH,\n",
    "        Action.NOP.value * AMOUNT_ORDERS_HIGH,\n",
    "        Action.NOP.value * AMOUNT_ORDERS_HIGH,\n",
    "        Action.NOP.value * AMOUNT_ORDERS_HIGH\n",
    "    )\n",
    "\n",
    "for ii, action in enumerate(smart_actions):\n",
    "    observation, reward, terminated, truncated, info = env.step(action)\n",
    "    print(f\"reward at {ii} step: {reward}\")\n",
    "    total_reward += reward\n",
    "    done = terminated or truncated\n",
    "    if done:\n",
    "        break\n",
    "print(f\"Done: {done}, total reward: {total_reward}\")\n",
    "print(f\"Treasury: {env.get_wrapper_attr('mango').treasury_usdc}\")\n",
    "print(f\"Health_factor: {env.get_wrapper_attr('mango').get_user_health_factor()}\")"
   ]
  }
 ],
 "metadata": {
  "kernelspec": {
   "display_name": "Python 3 (ipykernel)",
   "language": "python",
   "name": "python3"
  },
  "language_info": {
   "codemirror_mode": {
    "name": "ipython",
    "version": 3
   },
   "file_extension": ".py",
   "mimetype": "text/x-python",
   "name": "python",
   "nbconvert_exporter": "python",
   "pygments_lexer": "ipython3",
   "version": "3.10.13"
  }
 },
 "nbformat": 4,
 "nbformat_minor": 5
}
